{
 "cells": [
  {
   "cell_type": "markdown",
   "metadata": {},
   "source": [
    "## Анализ полученных данных\n",
    "\n",
    "Статистика по вакансиям для удобного отображения вынесена в отдельную тетрадку."
   ]
  },
  {
   "cell_type": "code",
   "execution_count": 1,
   "metadata": {},
   "outputs": [],
   "source": [
    "import matplotlib.pyplot as plt\n",
    "import seaborn as sns\n",
    "import pandas as pd\n",
    "import numpy as np\n",
    "import re\n",
    "\n",
    "import nltk\n",
    "# nltk.download('stopwords')\n",
    "from nltk.corpus import stopwords\n",
    "sns.set()"
   ]
  },
  {
   "cell_type": "markdown",
   "metadata": {},
   "source": [
    "### Загрузка данных"
   ]
  },
  {
   "cell_type": "code",
   "execution_count": 2,
   "metadata": {},
   "outputs": [
    {
     "data": {
      "text/html": [
       "<div>\n",
       "<style scoped>\n",
       "    .dataframe tbody tr th:only-of-type {\n",
       "        vertical-align: middle;\n",
       "    }\n",
       "\n",
       "    .dataframe tbody tr th {\n",
       "        vertical-align: top;\n",
       "    }\n",
       "\n",
       "    .dataframe thead th {\n",
       "        text-align: right;\n",
       "    }\n",
       "</style>\n",
       "<table border=\"1\" class=\"dataframe\">\n",
       "  <thead>\n",
       "    <tr style=\"text-align: right;\">\n",
       "      <th></th>\n",
       "      <th>Id</th>\n",
       "      <th>Employer</th>\n",
       "      <th>Name</th>\n",
       "      <th>Salary</th>\n",
       "      <th>From</th>\n",
       "      <th>To</th>\n",
       "      <th>Experience</th>\n",
       "      <th>Schedule</th>\n",
       "      <th>Keys</th>\n",
       "      <th>Description</th>\n",
       "    </tr>\n",
       "  </thead>\n",
       "  <tbody>\n",
       "    <tr>\n",
       "      <th>4</th>\n",
       "      <td>32799001</td>\n",
       "      <td>Citibank</td>\n",
       "      <td>Lead Data Scientist</td>\n",
       "      <td>True</td>\n",
       "      <td>261000.0</td>\n",
       "      <td>NaN</td>\n",
       "      <td>От 3 до 6 лет</td>\n",
       "      <td>Полный день</td>\n",
       "      <td>['Data Mining', 'Big Data', 'Data Analysis', '...</td>\n",
       "      <td>What is Citi? Citi is one of the largest consu...</td>\n",
       "    </tr>\n",
       "    <tr>\n",
       "      <th>13</th>\n",
       "      <td>32500962</td>\n",
       "      <td>Жилищная Экосистема ВТБ</td>\n",
       "      <td>Lead data scientist</td>\n",
       "      <td>True</td>\n",
       "      <td>200000.0</td>\n",
       "      <td>NaN</td>\n",
       "      <td>От 3 до 6 лет</td>\n",
       "      <td>Полный день</td>\n",
       "      <td>['JavaScript', 'Python', 'MS SQL']</td>\n",
       "      <td>Жилищная Экосистема ВТБ - это IT-стартап на ст...</td>\n",
       "    </tr>\n",
       "    <tr>\n",
       "      <th>14</th>\n",
       "      <td>30250856</td>\n",
       "      <td>Связной</td>\n",
       "      <td>Главный аналитик-математик (Data Analyst / Dat...</td>\n",
       "      <td>True</td>\n",
       "      <td>180000.0</td>\n",
       "      <td>230000.0</td>\n",
       "      <td>От 3 до 6 лет</td>\n",
       "      <td>Полный день</td>\n",
       "      <td>['Data Mining', 'Python', 'Управление проектам...</td>\n",
       "      <td>Требования:  Высшее образование (приветствуютс...</td>\n",
       "    </tr>\n",
       "    <tr>\n",
       "      <th>15</th>\n",
       "      <td>32907619</td>\n",
       "      <td>Сбербанк</td>\n",
       "      <td>Data Scientist/ Machine Learning Engineer/ NLP...</td>\n",
       "      <td>True</td>\n",
       "      <td>180000.0</td>\n",
       "      <td>NaN</td>\n",
       "      <td>От 1 года до 3 лет</td>\n",
       "      <td>Полный день</td>\n",
       "      <td>[]</td>\n",
       "      <td>Мы ищем опытного DL - специалиста, увлеченного...</td>\n",
       "    </tr>\n",
       "    <tr>\n",
       "      <th>18</th>\n",
       "      <td>32853797</td>\n",
       "      <td>Гумич</td>\n",
       "      <td>Data Scientist/Machine Learning Engineer</td>\n",
       "      <td>True</td>\n",
       "      <td>100000.0</td>\n",
       "      <td>250000.0</td>\n",
       "      <td>От 1 года до 3 лет</td>\n",
       "      <td>Полный день</td>\n",
       "      <td>['computer vision', 'machine learning', 'deep ...</td>\n",
       "      <td>О компании: Гумич - частная научно-производств...</td>\n",
       "    </tr>\n",
       "    <tr>\n",
       "      <th>20</th>\n",
       "      <td>32059309</td>\n",
       "      <td>DC Daily</td>\n",
       "      <td>Machine Learning Engineer / Data Scientist</td>\n",
       "      <td>True</td>\n",
       "      <td>150000.0</td>\n",
       "      <td>NaN</td>\n",
       "      <td>От 1 года до 3 лет</td>\n",
       "      <td>Полный день</td>\n",
       "      <td>[]</td>\n",
       "      <td>Мы - российский стартап Delivery Club Daily, к...</td>\n",
       "    </tr>\n",
       "    <tr>\n",
       "      <th>35</th>\n",
       "      <td>30026091</td>\n",
       "      <td>COMPAREX</td>\n",
       "      <td>Data Scientist</td>\n",
       "      <td>True</td>\n",
       "      <td>87000.0</td>\n",
       "      <td>217500.0</td>\n",
       "      <td>От 3 до 6 лет</td>\n",
       "      <td>Полный день</td>\n",
       "      <td>['machine learning', 'Big Data']</td>\n",
       "      <td>SoftwareONE (ранее COMPAREX), глобальная ведущ...</td>\n",
       "    </tr>\n",
       "  </tbody>\n",
       "</table>\n",
       "</div>"
      ],
      "text/plain": [
       "          Id                 Employer  \\\n",
       "4   32799001                 Citibank   \n",
       "13  32500962  Жилищная Экосистема ВТБ   \n",
       "14  30250856                  Связной   \n",
       "15  32907619                 Сбербанк   \n",
       "18  32853797                    Гумич   \n",
       "20  32059309                 DC Daily   \n",
       "35  30026091                 COMPAREX   \n",
       "\n",
       "                                                 Name  Salary      From  \\\n",
       "4                                 Lead Data Scientist    True  261000.0   \n",
       "13                                Lead data scientist    True  200000.0   \n",
       "14  Главный аналитик-математик (Data Analyst / Dat...    True  180000.0   \n",
       "15  Data Scientist/ Machine Learning Engineer/ NLP...    True  180000.0   \n",
       "18           Data Scientist/Machine Learning Engineer    True  100000.0   \n",
       "20         Machine Learning Engineer / Data Scientist    True  150000.0   \n",
       "35                                     Data Scientist    True   87000.0   \n",
       "\n",
       "          To          Experience     Schedule  \\\n",
       "4        NaN       От 3 до 6 лет  Полный день   \n",
       "13       NaN       От 3 до 6 лет  Полный день   \n",
       "14  230000.0       От 3 до 6 лет  Полный день   \n",
       "15       NaN  От 1 года до 3 лет  Полный день   \n",
       "18  250000.0  От 1 года до 3 лет  Полный день   \n",
       "20       NaN  От 1 года до 3 лет  Полный день   \n",
       "35  217500.0       От 3 до 6 лет  Полный день   \n",
       "\n",
       "                                                 Keys  \\\n",
       "4   ['Data Mining', 'Big Data', 'Data Analysis', '...   \n",
       "13                 ['JavaScript', 'Python', 'MS SQL']   \n",
       "14  ['Data Mining', 'Python', 'Управление проектам...   \n",
       "15                                                 []   \n",
       "18  ['computer vision', 'machine learning', 'deep ...   \n",
       "20                                                 []   \n",
       "35                   ['machine learning', 'Big Data']   \n",
       "\n",
       "                                          Description  \n",
       "4   What is Citi? Citi is one of the largest consu...  \n",
       "13  Жилищная Экосистема ВТБ - это IT-стартап на ст...  \n",
       "14  Требования:  Высшее образование (приветствуютс...  \n",
       "15  Мы ищем опытного DL - специалиста, увлеченного...  \n",
       "18  О компании: Гумич - частная научно-производств...  \n",
       "20  Мы - российский стартап Delivery Club Daily, к...  \n",
       "35  SoftwareONE (ранее COMPAREX), глобальная ведущ...  "
      ]
     },
     "execution_count": 2,
     "metadata": {},
     "output_type": "execute_result"
    }
   ],
   "source": [
    "df = pd.read_csv('hh_data.csv')\n",
    "df[df['Salary']][0:7]"
   ]
  },
  {
   "cell_type": "markdown",
   "metadata": {},
   "source": [
    "### Количество вакансий"
   ]
  },
  {
   "cell_type": "code",
   "execution_count": 3,
   "metadata": {},
   "outputs": [
    {
     "name": "stdout",
     "output_type": "stream",
     "text": [
      "Number of vacancies: 298\n"
     ]
    }
   ],
   "source": [
    "print('Number of vacancies: {}'.format(df['Id'].count()))"
   ]
  },
  {
   "cell_type": "markdown",
   "metadata": {},
   "source": [
    "### Вакансия с максимальной зарплатой"
   ]
  },
  {
   "cell_type": "code",
   "execution_count": 4,
   "metadata": {},
   "outputs": [
    {
     "data": {
      "text/html": [
       "<div>\n",
       "<style scoped>\n",
       "    .dataframe tbody tr th:only-of-type {\n",
       "        vertical-align: middle;\n",
       "    }\n",
       "\n",
       "    .dataframe tbody tr th {\n",
       "        vertical-align: top;\n",
       "    }\n",
       "\n",
       "    .dataframe thead th {\n",
       "        text-align: right;\n",
       "    }\n",
       "</style>\n",
       "<table border=\"1\" class=\"dataframe\">\n",
       "  <thead>\n",
       "    <tr style=\"text-align: right;\">\n",
       "      <th></th>\n",
       "      <th>Id</th>\n",
       "      <th>Employer</th>\n",
       "      <th>Name</th>\n",
       "      <th>Salary</th>\n",
       "      <th>From</th>\n",
       "      <th>To</th>\n",
       "      <th>Experience</th>\n",
       "      <th>Schedule</th>\n",
       "      <th>Keys</th>\n",
       "      <th>Description</th>\n",
       "    </tr>\n",
       "  </thead>\n",
       "  <tbody>\n",
       "    <tr>\n",
       "      <th>44</th>\n",
       "      <td>32644403</td>\n",
       "      <td>Kelly</td>\n",
       "      <td>Intelligent Platform Technical Expert (machine...</td>\n",
       "      <td>True</td>\n",
       "      <td>300000.0</td>\n",
       "      <td>NaN</td>\n",
       "      <td>Более 6 лет</td>\n",
       "      <td>Полный день</td>\n",
       "      <td>['AI algorithms', 'TensorFlow', 'Pytorch', 'Ja...</td>\n",
       "      <td>Huawei Technologies is looking for Intelligent...</td>\n",
       "    </tr>\n",
       "    <tr>\n",
       "      <th>93</th>\n",
       "      <td>32633458</td>\n",
       "      <td>Parascript</td>\n",
       "      <td>Программист-математик/ алгоритмист (США)</td>\n",
       "      <td>True</td>\n",
       "      <td>NaN</td>\n",
       "      <td>403151.0</td>\n",
       "      <td>От 1 года до 3 лет</td>\n",
       "      <td>Полный день</td>\n",
       "      <td>['C++', 'умение разрабатывать алгоритмы', 'C#'...</td>\n",
       "      <td>Вакансия: Программист-математик, алгоритмистАм...</td>\n",
       "    </tr>\n",
       "  </tbody>\n",
       "</table>\n",
       "</div>"
      ],
      "text/plain": [
       "          Id    Employer                                               Name  \\\n",
       "44  32644403       Kelly  Intelligent Platform Technical Expert (machine...   \n",
       "93  32633458  Parascript           Программист-математик/ алгоритмист (США)   \n",
       "\n",
       "    Salary      From        To          Experience     Schedule  \\\n",
       "44    True  300000.0       NaN         Более 6 лет  Полный день   \n",
       "93    True       NaN  403151.0  От 1 года до 3 лет  Полный день   \n",
       "\n",
       "                                                 Keys  \\\n",
       "44  ['AI algorithms', 'TensorFlow', 'Pytorch', 'Ja...   \n",
       "93  ['C++', 'умение разрабатывать алгоритмы', 'C#'...   \n",
       "\n",
       "                                          Description  \n",
       "44  Huawei Technologies is looking for Intelligent...  \n",
       "93  Вакансия: Программист-математик, алгоритмистАм...  "
      ]
     },
     "execution_count": 4,
     "metadata": {},
     "output_type": "execute_result"
    }
   ],
   "source": [
    "df.iloc[df[['From', 'To']].idxmax()]"
   ]
  },
  {
   "cell_type": "markdown",
   "metadata": {},
   "source": [
    "### Вакансия с минимальной зарплатой"
   ]
  },
  {
   "cell_type": "code",
   "execution_count": 5,
   "metadata": {},
   "outputs": [
    {
     "data": {
      "text/html": [
       "<div>\n",
       "<style scoped>\n",
       "    .dataframe tbody tr th:only-of-type {\n",
       "        vertical-align: middle;\n",
       "    }\n",
       "\n",
       "    .dataframe tbody tr th {\n",
       "        vertical-align: top;\n",
       "    }\n",
       "\n",
       "    .dataframe thead th {\n",
       "        text-align: right;\n",
       "    }\n",
       "</style>\n",
       "<table border=\"1\" class=\"dataframe\">\n",
       "  <thead>\n",
       "    <tr style=\"text-align: right;\">\n",
       "      <th></th>\n",
       "      <th>Id</th>\n",
       "      <th>Employer</th>\n",
       "      <th>Name</th>\n",
       "      <th>Salary</th>\n",
       "      <th>From</th>\n",
       "      <th>To</th>\n",
       "      <th>Experience</th>\n",
       "      <th>Schedule</th>\n",
       "      <th>Keys</th>\n",
       "      <th>Description</th>\n",
       "    </tr>\n",
       "  </thead>\n",
       "  <tbody>\n",
       "    <tr>\n",
       "      <th>104</th>\n",
       "      <td>32903593</td>\n",
       "      <td>Retail Rocket</td>\n",
       "      <td>Младший аналитик</td>\n",
       "      <td>True</td>\n",
       "      <td>50000.0</td>\n",
       "      <td>NaN</td>\n",
       "      <td>Нет опыта</td>\n",
       "      <td>Полный день</td>\n",
       "      <td>['Unix', 'Linux', 'SQL']</td>\n",
       "      <td>Компания Retail Rocket предоставляет набор реш...</td>\n",
       "    </tr>\n",
       "    <tr>\n",
       "      <th>191</th>\n",
       "      <td>32923854</td>\n",
       "      <td>Технологии в образовании</td>\n",
       "      <td>Ментор онлайн-курса по веб-разработке на Python</td>\n",
       "      <td>True</td>\n",
       "      <td>NaN</td>\n",
       "      <td>20000.0</td>\n",
       "      <td>От 1 года до 3 лет</td>\n",
       "      <td>Удаленная работа</td>\n",
       "      <td>['CSS', 'Git', 'Linux', 'JavaScript', 'Django ...</td>\n",
       "      <td>Мы SkillFactory - одна из самых быстрорастущих...</td>\n",
       "    </tr>\n",
       "  </tbody>\n",
       "</table>\n",
       "</div>"
      ],
      "text/plain": [
       "           Id                  Employer  \\\n",
       "104  32903593             Retail Rocket   \n",
       "191  32923854  Технологии в образовании   \n",
       "\n",
       "                                                Name  Salary     From  \\\n",
       "104                                 Младший аналитик    True  50000.0   \n",
       "191  Ментор онлайн-курса по веб-разработке на Python    True      NaN   \n",
       "\n",
       "          To          Experience          Schedule  \\\n",
       "104      NaN           Нет опыта       Полный день   \n",
       "191  20000.0  От 1 года до 3 лет  Удаленная работа   \n",
       "\n",
       "                                                  Keys  \\\n",
       "104                           ['Unix', 'Linux', 'SQL']   \n",
       "191  ['CSS', 'Git', 'Linux', 'JavaScript', 'Django ...   \n",
       "\n",
       "                                           Description  \n",
       "104  Компания Retail Rocket предоставляет набор реш...  \n",
       "191  Мы SkillFactory - одна из самых быстрорастущих...  "
      ]
     },
     "execution_count": 5,
     "metadata": {},
     "output_type": "execute_result"
    }
   ],
   "source": [
    "df.iloc[df[['From', 'To']].idxmin()]"
   ]
  },
  {
   "cell_type": "markdown",
   "metadata": {},
   "source": [
    "### Статистика по зарплатам\n",
    "\n",
    "Здесь отображается количество вакансий с указанными зарплатами \"От\" и \"До\", производится подсчет таких вакансий, а также некоторые свойства: среднее, медиана, минимальное и максимальное значение."
   ]
  },
  {
   "cell_type": "code",
   "execution_count": 6,
   "metadata": {},
   "outputs": [
    {
     "data": {
      "text/html": [
       "<div>\n",
       "<style scoped>\n",
       "    .dataframe tbody tr th:only-of-type {\n",
       "        vertical-align: middle;\n",
       "    }\n",
       "\n",
       "    .dataframe tbody tr th {\n",
       "        vertical-align: top;\n",
       "    }\n",
       "\n",
       "    .dataframe thead th {\n",
       "        text-align: right;\n",
       "    }\n",
       "</style>\n",
       "<table border=\"1\" class=\"dataframe\">\n",
       "  <thead>\n",
       "    <tr style=\"text-align: right;\">\n",
       "      <th></th>\n",
       "      <th>From</th>\n",
       "      <th>To</th>\n",
       "    </tr>\n",
       "  </thead>\n",
       "  <tbody>\n",
       "    <tr>\n",
       "      <th>count</th>\n",
       "      <td>39</td>\n",
       "      <td>29</td>\n",
       "    </tr>\n",
       "    <tr>\n",
       "      <th>mean</th>\n",
       "      <td>152330</td>\n",
       "      <td>201251</td>\n",
       "    </tr>\n",
       "    <tr>\n",
       "      <th>std</th>\n",
       "      <td>64205</td>\n",
       "      <td>77803</td>\n",
       "    </tr>\n",
       "    <tr>\n",
       "      <th>min</th>\n",
       "      <td>50000</td>\n",
       "      <td>20000</td>\n",
       "    </tr>\n",
       "    <tr>\n",
       "      <th>max</th>\n",
       "      <td>300000</td>\n",
       "      <td>403151</td>\n",
       "    </tr>\n",
       "  </tbody>\n",
       "</table>\n",
       "</div>"
      ],
      "text/plain": [
       "         From      To\n",
       "count      39      29\n",
       "mean   152330  201251\n",
       "std     64205   77803\n",
       "min     50000   20000\n",
       "max    300000  403151"
      ]
     },
     "execution_count": 6,
     "metadata": {},
     "output_type": "execute_result"
    }
   ],
   "source": [
    "df_stat = df[['From', 'To']].describe().applymap(np.int32)\n",
    "df_stat.iloc[list(range(4))+[-1]]"
   ]
  },
  {
   "cell_type": "markdown",
   "metadata": {},
   "source": [
    "### График зарплат"
   ]
  },
  {
   "cell_type": "code",
   "execution_count": 7,
   "metadata": {},
   "outputs": [
    {
     "data": {
      "image/png": "[encoded data removed]",
      "text/plain": [
       "<Figure size 960x320 with 2 Axes>"
      ]
     },
     "metadata": {
      "needs_background": "light"
     },
     "output_type": "display_data"
    }
   ],
   "source": [
    "fz = plt.figure(figsize=(12, 4), dpi=80)\n",
    "ax = fz.add_subplot(1, 2, 1)\n",
    "plt.title('From / To Boxplot')\n",
    "sns.boxplot(data=df[['From', 'To']], width=0.4)\n",
    "ax = fz.add_subplot(1, 2, 2)\n",
    "plt.title('From / To Swarmplot')\n",
    "sns.swarmplot(data=df[['From', 'To']], size=6)\n",
    "plt.tight_layout()\n",
    "plt.savefig('from_to.png')"
   ]
  },
  {
   "cell_type": "markdown",
   "metadata": {},
   "source": [
    "### Усредненная статистика\n",
    "\n",
    "Поскольку не у всех вакансий указаны поля \"От\" и \"До\", производится расчет средней зарплаты, а на основании этих данных рассчитывается статистика."
   ]
  },
  {
   "cell_type": "code",
   "execution_count": 8,
   "metadata": {},
   "outputs": [
    {
     "name": "stdout",
     "output_type": "stream",
     "text": [
      "Average statistics (average filter for \"From\"-\"To\" parameters):\n",
      "Mim    : 20000\n",
      "Max    : 403151\n",
      "Mean   : 175647\n",
      "Median : 174000\n"
     ]
    }
   ],
   "source": [
    "comb_from_to = np.nanmean(df[df['Salary']][['From', 'To']].to_numpy(), axis=1)\n",
    "print('Average statistics (average filter for \"From\"-\"To\" parameters):')\n",
    "print('Mim    : %d' % np.min(comb_from_to))\n",
    "print('Max    : %d' % np.max(comb_from_to))\n",
    "print('Mean   : %d' % np.mean(comb_from_to))\n",
    "print('Median : %d' % np.median(comb_from_to))"
   ]
  },
  {
   "cell_type": "markdown",
   "metadata": {},
   "source": [
    "### Список часто используемых слов\n",
    "\n",
    "В этом разделе производится поиск наиболее употребляемых слов для параметра **Ключевые навыки**. Результа функции - список в порядке убывания."
   ]
  },
  {
   "cell_type": "code",
   "execution_count": 9,
   "metadata": {},
   "outputs": [],
   "source": [
    "def most_keys():\n",
    "    # Collect keys from dataframe\n",
    "    keys_df = df['Keys'].to_list()\n",
    "    \n",
    "    # Create a list of keys for all vacancies\n",
    "    lst_keys = []\n",
    "    for keys_elem in keys_df:\n",
    "        for el in keys_elem[1:-1].split(', '):\n",
    "            if el != '':\n",
    "                lst_keys.append(re.sub('\\'', '', el.lower()))\n",
    "\n",
    "    # Unique keys and their counter\n",
    "    set_keys = set(lst_keys)\n",
    "    # Dict: {Key: Count}\n",
    "    dct_keys = {el:lst_keys.count(el) for el in set_keys}\n",
    "    # Sorted dict\n",
    "    srt_keys = dict(sorted(dct_keys.items(), key=lambda x: x[1], reverse=True))\n",
    "    # Return pandas series\n",
    "    return pd.Series(srt_keys, name='Keys')"
   ]
  },
  {
   "cell_type": "code",
   "execution_count": 10,
   "metadata": {},
   "outputs": [
    {
     "name": "stdout",
     "output_type": "stream",
     "text": [
      "python                       91\n",
      "machine learning             56\n",
      "sql                          35\n",
      "data mining                  26\n",
      "c++                          25\n",
      "big data                     23\n",
      "java                         21\n",
      "математическая статистика    19\n",
      "javascript                   19\n",
      "data analysis                18\n",
      "data science                 16\n",
      "linux                        15\n",
      "tensorflow                   13\n",
      "deep learning                13\n",
      "английский язык              13\n",
      "Name: Keys, dtype: int64\n"
     ]
    }
   ],
   "source": [
    "ds_keys = most_keys()\n",
    "\n",
    "print(ds_keys[:15])"
   ]
  },
  {
   "cell_type": "markdown",
   "metadata": {},
   "source": [
    "### Описание вакансий\n",
    "\n",
    "Поиск наиболее употребляемых слов для параметра **Описание вакансий**.  \n",
    "Результат функции - список наиболее часто употребляемых слов (на английском языке) в порядке убывания."
   ]
  },
  {
   "cell_type": "code",
   "execution_count": 11,
   "metadata": {},
   "outputs": [],
   "source": [
    "def most_words():\n",
    "    # Collect keys from dataframe\n",
    "    words_df = df['Description'].to_list()\n",
    "    # Long string - combine descriptions\n",
    "    words_ls = ' '.join([re.sub(' +', ' ', re.sub('\\d+', '', el.strip().lower())) for el in words_df])\n",
    "    # Find all words\n",
    "    words_re = re.findall('[a-zA-Z]+', words_ls)\n",
    "    # Filter words with length < 3\n",
    "    words_l2 = [el for el in words_re if len(el) > 2]\n",
    "    # Unique words\n",
    "    words_st = set(words_l2)\n",
    "    # Remove 'stop words'\n",
    "    stop_words = set(stopwords.words('english'))\n",
    "    # XOR for dictionary\n",
    "    words_st ^= stop_words\n",
    "    # Dictionary - {Word: Counter}\n",
    "    words_cnt = {el : words_l2.count(el) for el in words_st}\n",
    "    # Pandas series\n",
    "    return pd.Series(dict(sorted(words_cnt.items(), key=lambda x: x[1], reverse=True)))"
   ]
  },
  {
   "cell_type": "code",
   "execution_count": 12,
   "metadata": {},
   "outputs": [
    {
     "name": "stdout",
     "output_type": "stream",
     "text": [
      "data           640\n",
      "learning       494\n",
      "experience     417\n",
      "machine        365\n",
      "python         241\n",
      "business       235\n",
      "team           227\n",
      "skills         208\n",
      "development    196\n",
      "work           162\n",
      "amp            145\n",
      "science        144\n",
      "knowledge      142\n",
      "solutions      141\n",
      "sql            132\n",
      "dtype: int64\n"
     ]
    }
   ],
   "source": [
    "ds_words = most_words()\n",
    "\n",
    "print(ds_words.head(15))"
   ]
  }
 ],
 "metadata": {
  "kernelspec": {
   "display_name": "Python 3",
   "language": "python",
   "name": "python3"
  },
  "language_info": {
   "codemirror_mode": {
    "name": "ipython",
    "version": 3
   },
   "file_extension": ".py",
   "mimetype": "text/x-python",
   "name": "python",
   "nbconvert_exporter": "python",
   "pygments_lexer": "ipython3",
   "version": "3.6.7"
  }
 },
 "nbformat": 4,
 "nbformat_minor": 2
}
