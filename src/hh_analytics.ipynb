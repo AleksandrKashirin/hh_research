{
 "cells": [
  {
   "cell_type": "markdown",
   "metadata": {},
   "source": [
    "## Анализ полученных данных\n",
    "\n",
    "Статистика по вакансиям для удобного отображения вынесена в отдельную тетрадку."
   ]
  },
  {
   "cell_type": "code",
   "execution_count": 1,
   "metadata": {},
   "outputs": [],
   "source": [
    "import matplotlib.pyplot as plt\n",
    "import seaborn as sns\n",
    "import pandas as pd\n",
    "import numpy as np\n",
    "import re\n",
    "\n",
    "import nltk\n",
    "# nltk.download('stopwords')\n",
    "from nltk.corpus import stopwords\n",
    "\n",
    "from scipy.sparse import hstack\n",
    "from sklearn.linear_model import Ridge\n",
    "from sklearn.feature_extraction import DictVectorizer\n",
    "from sklearn.feature_extraction.text import TfidfVectorizer\n",
    "\n",
    "sns.set()"
   ]
  },
  {
   "cell_type": "markdown",
   "metadata": {},
   "source": [
    "### Загрузка данных"
   ]
  },
  {
   "cell_type": "code",
   "execution_count": 2,
   "metadata": {},
   "outputs": [
    {
     "data": {
      "text/html": [
       "<div>\n",
       "<style scoped>\n",
       "    .dataframe tbody tr th:only-of-type {\n",
       "        vertical-align: middle;\n",
       "    }\n",
       "\n",
       "    .dataframe tbody tr th {\n",
       "        vertical-align: top;\n",
       "    }\n",
       "\n",
       "    .dataframe thead th {\n",
       "        text-align: right;\n",
       "    }\n",
       "</style>\n",
       "<table border=\"1\" class=\"dataframe\">\n",
       "  <thead>\n",
       "    <tr style=\"text-align: right;\">\n",
       "      <th></th>\n",
       "      <th>Id</th>\n",
       "      <th>Employer</th>\n",
       "      <th>Name</th>\n",
       "      <th>Salary</th>\n",
       "      <th>From</th>\n",
       "      <th>To</th>\n",
       "      <th>Experience</th>\n",
       "      <th>Schedule</th>\n",
       "      <th>Keys</th>\n",
       "      <th>Description</th>\n",
       "    </tr>\n",
       "  </thead>\n",
       "  <tbody>\n",
       "    <tr>\n",
       "      <th>4</th>\n",
       "      <td>32799001</td>\n",
       "      <td>Citibank</td>\n",
       "      <td>Lead Data Scientist</td>\n",
       "      <td>True</td>\n",
       "      <td>261000.0</td>\n",
       "      <td>NaN</td>\n",
       "      <td>От 3 до 6 лет</td>\n",
       "      <td>Полный день</td>\n",
       "      <td>['Data Mining', 'Big Data', 'Data Analysis', '...</td>\n",
       "      <td>What is Citi? Citi is one of the largest consu...</td>\n",
       "    </tr>\n",
       "    <tr>\n",
       "      <th>11</th>\n",
       "      <td>32500962</td>\n",
       "      <td>Жилищная Экосистема ВТБ</td>\n",
       "      <td>Lead data scientist</td>\n",
       "      <td>True</td>\n",
       "      <td>200000.0</td>\n",
       "      <td>NaN</td>\n",
       "      <td>От 3 до 6 лет</td>\n",
       "      <td>Полный день</td>\n",
       "      <td>['JavaScript', 'Python', 'MS SQL']</td>\n",
       "      <td>Жилищная Экосистема ВТБ - это IT-стартап на ст...</td>\n",
       "    </tr>\n",
       "    <tr>\n",
       "      <th>12</th>\n",
       "      <td>30250856</td>\n",
       "      <td>Связной</td>\n",
       "      <td>Главный аналитик-математик (Data Analyst / Dat...</td>\n",
       "      <td>True</td>\n",
       "      <td>180000.0</td>\n",
       "      <td>230000.0</td>\n",
       "      <td>От 3 до 6 лет</td>\n",
       "      <td>Полный день</td>\n",
       "      <td>['Data Mining', 'Python', 'Управление проектам...</td>\n",
       "      <td>Требования:  Высшее образование (приветствуютс...</td>\n",
       "    </tr>\n",
       "    <tr>\n",
       "      <th>13</th>\n",
       "      <td>32907619</td>\n",
       "      <td>Сбербанк</td>\n",
       "      <td>Data Scientist/ Machine Learning Engineer/ NLP...</td>\n",
       "      <td>True</td>\n",
       "      <td>180000.0</td>\n",
       "      <td>NaN</td>\n",
       "      <td>От 1 года до 3 лет</td>\n",
       "      <td>Полный день</td>\n",
       "      <td>[]</td>\n",
       "      <td>Мы ищем опытного DL - специалиста, увлеченного...</td>\n",
       "    </tr>\n",
       "    <tr>\n",
       "      <th>18</th>\n",
       "      <td>32853797</td>\n",
       "      <td>Гумич</td>\n",
       "      <td>Data Scientist/Machine Learning Engineer</td>\n",
       "      <td>True</td>\n",
       "      <td>100000.0</td>\n",
       "      <td>250000.0</td>\n",
       "      <td>От 1 года до 3 лет</td>\n",
       "      <td>Полный день</td>\n",
       "      <td>['computer vision', 'machine learning', 'deep ...</td>\n",
       "      <td>О компании: Гумич - частная научно-производств...</td>\n",
       "    </tr>\n",
       "    <tr>\n",
       "      <th>21</th>\n",
       "      <td>32059309</td>\n",
       "      <td>DC Daily</td>\n",
       "      <td>Machine Learning Engineer / Data Scientist</td>\n",
       "      <td>True</td>\n",
       "      <td>150000.0</td>\n",
       "      <td>NaN</td>\n",
       "      <td>От 1 года до 3 лет</td>\n",
       "      <td>Полный день</td>\n",
       "      <td>[]</td>\n",
       "      <td>Мы - российский стартап Delivery Club Daily, к...</td>\n",
       "    </tr>\n",
       "    <tr>\n",
       "      <th>36</th>\n",
       "      <td>30026091</td>\n",
       "      <td>COMPAREX</td>\n",
       "      <td>Data Scientist</td>\n",
       "      <td>True</td>\n",
       "      <td>87000.0</td>\n",
       "      <td>217500.0</td>\n",
       "      <td>От 3 до 6 лет</td>\n",
       "      <td>Полный день</td>\n",
       "      <td>['machine learning', 'Big Data']</td>\n",
       "      <td>SoftwareONE (ранее COMPAREX), глобальная ведущ...</td>\n",
       "    </tr>\n",
       "  </tbody>\n",
       "</table>\n",
       "</div>"
      ],
      "text/plain": [
       "          Id                 Employer  \\\n",
       "4   32799001                 Citibank   \n",
       "11  32500962  Жилищная Экосистема ВТБ   \n",
       "12  30250856                  Связной   \n",
       "13  32907619                 Сбербанк   \n",
       "18  32853797                    Гумич   \n",
       "21  32059309                 DC Daily   \n",
       "36  30026091                 COMPAREX   \n",
       "\n",
       "                                                 Name  Salary      From  \\\n",
       "4                                 Lead Data Scientist    True  261000.0   \n",
       "11                                Lead data scientist    True  200000.0   \n",
       "12  Главный аналитик-математик (Data Analyst / Dat...    True  180000.0   \n",
       "13  Data Scientist/ Machine Learning Engineer/ NLP...    True  180000.0   \n",
       "18           Data Scientist/Machine Learning Engineer    True  100000.0   \n",
       "21         Machine Learning Engineer / Data Scientist    True  150000.0   \n",
       "36                                     Data Scientist    True   87000.0   \n",
       "\n",
       "          To          Experience     Schedule  \\\n",
       "4        NaN       От 3 до 6 лет  Полный день   \n",
       "11       NaN       От 3 до 6 лет  Полный день   \n",
       "12  230000.0       От 3 до 6 лет  Полный день   \n",
       "13       NaN  От 1 года до 3 лет  Полный день   \n",
       "18  250000.0  От 1 года до 3 лет  Полный день   \n",
       "21       NaN  От 1 года до 3 лет  Полный день   \n",
       "36  217500.0       От 3 до 6 лет  Полный день   \n",
       "\n",
       "                                                 Keys  \\\n",
       "4   ['Data Mining', 'Big Data', 'Data Analysis', '...   \n",
       "11                 ['JavaScript', 'Python', 'MS SQL']   \n",
       "12  ['Data Mining', 'Python', 'Управление проектам...   \n",
       "13                                                 []   \n",
       "18  ['computer vision', 'machine learning', 'deep ...   \n",
       "21                                                 []   \n",
       "36                   ['machine learning', 'Big Data']   \n",
       "\n",
       "                                          Description  \n",
       "4   What is Citi? Citi is one of the largest consu...  \n",
       "11  Жилищная Экосистема ВТБ - это IT-стартап на ст...  \n",
       "12  Требования:  Высшее образование (приветствуютс...  \n",
       "13  Мы ищем опытного DL - специалиста, увлеченного...  \n",
       "18  О компании: Гумич - частная научно-производств...  \n",
       "21  Мы - российский стартап Delivery Club Daily, к...  \n",
       "36  SoftwareONE (ранее COMPAREX), глобальная ведущ...  "
      ]
     },
     "execution_count": 2,
     "metadata": {},
     "output_type": "execute_result"
    }
   ],
   "source": [
    "df = pd.read_csv('hh_data.csv')\n",
    "df[df['Salary']][0:7]"
   ]
  },
  {
   "cell_type": "markdown",
   "metadata": {},
   "source": [
    "### Количество вакансий"
   ]
  },
  {
   "cell_type": "code",
   "execution_count": 3,
   "metadata": {},
   "outputs": [
    {
     "name": "stdout",
     "output_type": "stream",
     "text": [
      "Number of vacancies: 300\n"
     ]
    }
   ],
   "source": [
    "print('Number of vacancies: {}'.format(df['Id'].count()))"
   ]
  },
  {
   "cell_type": "markdown",
   "metadata": {},
   "source": [
    "### Вакансия с максимальной зарплатой"
   ]
  },
  {
   "cell_type": "code",
   "execution_count": 4,
   "metadata": {},
   "outputs": [
    {
     "data": {
      "text/html": [
       "<div>\n",
       "<style scoped>\n",
       "    .dataframe tbody tr th:only-of-type {\n",
       "        vertical-align: middle;\n",
       "    }\n",
       "\n",
       "    .dataframe tbody tr th {\n",
       "        vertical-align: top;\n",
       "    }\n",
       "\n",
       "    .dataframe thead th {\n",
       "        text-align: right;\n",
       "    }\n",
       "</style>\n",
       "<table border=\"1\" class=\"dataframe\">\n",
       "  <thead>\n",
       "    <tr style=\"text-align: right;\">\n",
       "      <th></th>\n",
       "      <th>Id</th>\n",
       "      <th>Employer</th>\n",
       "      <th>Name</th>\n",
       "      <th>Salary</th>\n",
       "      <th>From</th>\n",
       "      <th>To</th>\n",
       "      <th>Experience</th>\n",
       "      <th>Schedule</th>\n",
       "      <th>Keys</th>\n",
       "      <th>Description</th>\n",
       "    </tr>\n",
       "  </thead>\n",
       "  <tbody>\n",
       "    <tr>\n",
       "      <th>47</th>\n",
       "      <td>32644403</td>\n",
       "      <td>Kelly</td>\n",
       "      <td>Intelligent Platform Technical Expert (machine...</td>\n",
       "      <td>True</td>\n",
       "      <td>300000.0</td>\n",
       "      <td>NaN</td>\n",
       "      <td>Более 6 лет</td>\n",
       "      <td>Полный день</td>\n",
       "      <td>['AI algorithms', 'TensorFlow', 'Pytorch', 'Ja...</td>\n",
       "      <td>Huawei Technologies is looking for Intelligent...</td>\n",
       "    </tr>\n",
       "    <tr>\n",
       "      <th>118</th>\n",
       "      <td>32633458</td>\n",
       "      <td>Parascript</td>\n",
       "      <td>Программист-математик/ алгоритмист (США)</td>\n",
       "      <td>True</td>\n",
       "      <td>NaN</td>\n",
       "      <td>401000.855995</td>\n",
       "      <td>От 1 года до 3 лет</td>\n",
       "      <td>Полный день</td>\n",
       "      <td>['C++', 'умение разрабатывать алгоритмы', 'C#'...</td>\n",
       "      <td>Вакансия: Программист-математик, алгоритмистАм...</td>\n",
       "    </tr>\n",
       "  </tbody>\n",
       "</table>\n",
       "</div>"
      ],
      "text/plain": [
       "           Id    Employer                                               Name  \\\n",
       "47   32644403       Kelly  Intelligent Platform Technical Expert (machine...   \n",
       "118  32633458  Parascript           Программист-математик/ алгоритмист (США)   \n",
       "\n",
       "     Salary      From             To          Experience     Schedule  \\\n",
       "47     True  300000.0            NaN         Более 6 лет  Полный день   \n",
       "118    True       NaN  401000.855995  От 1 года до 3 лет  Полный день   \n",
       "\n",
       "                                                  Keys  \\\n",
       "47   ['AI algorithms', 'TensorFlow', 'Pytorch', 'Ja...   \n",
       "118  ['C++', 'умение разрабатывать алгоритмы', 'C#'...   \n",
       "\n",
       "                                           Description  \n",
       "47   Huawei Technologies is looking for Intelligent...  \n",
       "118  Вакансия: Программист-математик, алгоритмистАм...  "
      ]
     },
     "execution_count": 4,
     "metadata": {},
     "output_type": "execute_result"
    }
   ],
   "source": [
    "df.iloc[df[['From', 'To']].idxmax()]"
   ]
  },
  {
   "cell_type": "markdown",
   "metadata": {},
   "source": [
    "### Вакансия с минимальной зарплатой"
   ]
  },
  {
   "cell_type": "code",
   "execution_count": 5,
   "metadata": {},
   "outputs": [
    {
     "data": {
      "text/html": [
       "<div>\n",
       "<style scoped>\n",
       "    .dataframe tbody tr th:only-of-type {\n",
       "        vertical-align: middle;\n",
       "    }\n",
       "\n",
       "    .dataframe tbody tr th {\n",
       "        vertical-align: top;\n",
       "    }\n",
       "\n",
       "    .dataframe thead th {\n",
       "        text-align: right;\n",
       "    }\n",
       "</style>\n",
       "<table border=\"1\" class=\"dataframe\">\n",
       "  <thead>\n",
       "    <tr style=\"text-align: right;\">\n",
       "      <th></th>\n",
       "      <th>Id</th>\n",
       "      <th>Employer</th>\n",
       "      <th>Name</th>\n",
       "      <th>Salary</th>\n",
       "      <th>From</th>\n",
       "      <th>To</th>\n",
       "      <th>Experience</th>\n",
       "      <th>Schedule</th>\n",
       "      <th>Keys</th>\n",
       "      <th>Description</th>\n",
       "    </tr>\n",
       "  </thead>\n",
       "  <tbody>\n",
       "    <tr>\n",
       "      <th>99</th>\n",
       "      <td>32903593</td>\n",
       "      <td>Retail Rocket</td>\n",
       "      <td>Младший аналитик</td>\n",
       "      <td>True</td>\n",
       "      <td>50000.0</td>\n",
       "      <td>NaN</td>\n",
       "      <td>Нет опыта</td>\n",
       "      <td>Полный день</td>\n",
       "      <td>['Unix', 'Linux', 'SQL']</td>\n",
       "      <td>Компания Retail Rocket предоставляет набор реш...</td>\n",
       "    </tr>\n",
       "    <tr>\n",
       "      <th>189</th>\n",
       "      <td>32923854</td>\n",
       "      <td>Технологии в образовании</td>\n",
       "      <td>Ментор онлайн-курса по веб-разработке на Python</td>\n",
       "      <td>True</td>\n",
       "      <td>NaN</td>\n",
       "      <td>20000.0</td>\n",
       "      <td>От 1 года до 3 лет</td>\n",
       "      <td>Удаленная работа</td>\n",
       "      <td>['CSS', 'Git', 'Linux', 'JavaScript', 'Django ...</td>\n",
       "      <td>Мы SkillFactory - одна из самых быстрорастущих...</td>\n",
       "    </tr>\n",
       "  </tbody>\n",
       "</table>\n",
       "</div>"
      ],
      "text/plain": [
       "           Id                  Employer  \\\n",
       "99   32903593             Retail Rocket   \n",
       "189  32923854  Технологии в образовании   \n",
       "\n",
       "                                                Name  Salary     From  \\\n",
       "99                                  Младший аналитик    True  50000.0   \n",
       "189  Ментор онлайн-курса по веб-разработке на Python    True      NaN   \n",
       "\n",
       "          To          Experience          Schedule  \\\n",
       "99       NaN           Нет опыта       Полный день   \n",
       "189  20000.0  От 1 года до 3 лет  Удаленная работа   \n",
       "\n",
       "                                                  Keys  \\\n",
       "99                            ['Unix', 'Linux', 'SQL']   \n",
       "189  ['CSS', 'Git', 'Linux', 'JavaScript', 'Django ...   \n",
       "\n",
       "                                           Description  \n",
       "99   Компания Retail Rocket предоставляет набор реш...  \n",
       "189  Мы SkillFactory - одна из самых быстрорастущих...  "
      ]
     },
     "execution_count": 5,
     "metadata": {},
     "output_type": "execute_result"
    }
   ],
   "source": [
    "df.iloc[df[['From', 'To']].idxmin()]"
   ]
  },
  {
   "cell_type": "markdown",
   "metadata": {},
   "source": [
    "### Статистика по зарплатам\n",
    "\n",
    "Здесь отображается количество вакансий с указанными зарплатами \"От\" и \"До\", производится подсчет таких вакансий, а также некоторые свойства: среднее, медиана, минимальное и максимальное значение."
   ]
  },
  {
   "cell_type": "code",
   "execution_count": 6,
   "metadata": {},
   "outputs": [
    {
     "data": {
      "text/html": [
       "<div>\n",
       "<style scoped>\n",
       "    .dataframe tbody tr th:only-of-type {\n",
       "        vertical-align: middle;\n",
       "    }\n",
       "\n",
       "    .dataframe tbody tr th {\n",
       "        vertical-align: top;\n",
       "    }\n",
       "\n",
       "    .dataframe thead th {\n",
       "        text-align: right;\n",
       "    }\n",
       "</style>\n",
       "<table border=\"1\" class=\"dataframe\">\n",
       "  <thead>\n",
       "    <tr style=\"text-align: right;\">\n",
       "      <th></th>\n",
       "      <th>From</th>\n",
       "      <th>To</th>\n",
       "    </tr>\n",
       "  </thead>\n",
       "  <tbody>\n",
       "    <tr>\n",
       "      <th>count</th>\n",
       "      <td>39</td>\n",
       "      <td>29</td>\n",
       "    </tr>\n",
       "    <tr>\n",
       "      <th>mean</th>\n",
       "      <td>152263</td>\n",
       "      <td>200988</td>\n",
       "    </tr>\n",
       "    <tr>\n",
       "      <th>std</th>\n",
       "      <td>64205</td>\n",
       "      <td>77590</td>\n",
       "    </tr>\n",
       "    <tr>\n",
       "      <th>min</th>\n",
       "      <td>50000</td>\n",
       "      <td>20000</td>\n",
       "    </tr>\n",
       "    <tr>\n",
       "      <th>max</th>\n",
       "      <td>300000</td>\n",
       "      <td>401000</td>\n",
       "    </tr>\n",
       "  </tbody>\n",
       "</table>\n",
       "</div>"
      ],
      "text/plain": [
       "         From      To\n",
       "count      39      29\n",
       "mean   152263  200988\n",
       "std     64205   77590\n",
       "min     50000   20000\n",
       "max    300000  401000"
      ]
     },
     "execution_count": 6,
     "metadata": {},
     "output_type": "execute_result"
    }
   ],
   "source": [
    "df_stat = df[['From', 'To']].describe().applymap(np.int32)\n",
    "df_stat.iloc[list(range(4))+[-1]]"
   ]
  },
  {
   "cell_type": "markdown",
   "metadata": {},
   "source": [
    "### График зарплат"
   ]
  },
  {
   "cell_type": "code",
   "execution_count": 7,
   "metadata": {},
   "outputs": [
    {
     "data": {
      "image/png": "[encoded data removed]",
      "text/plain": [
       "<Figure size 960x320 with 2 Axes>"
      ]
     },
     "metadata": {
      "needs_background": "light"
     },
     "output_type": "display_data"
    }
   ],
   "source": [
    "fz = plt.figure(figsize=(12, 4), dpi=80)\n",
    "ax = fz.add_subplot(1, 2, 1)\n",
    "plt.title('From / To Boxplot')\n",
    "sns.boxplot(data=df[['From', 'To']].dropna(), width=0.4)\n",
    "ax = fz.add_subplot(1, 2, 2)\n",
    "plt.title('From / To Swarmplot')\n",
    "sns.swarmplot(data=df[['From', 'To']].dropna(), size=6)\n",
    "plt.tight_layout()\n",
    "plt.savefig('from_to.png')"
   ]
  },
  {
   "cell_type": "markdown",
   "metadata": {},
   "source": [
    "### Усредненная статистика\n",
    "\n",
    "Поскольку не у всех вакансий указаны поля \"От\" и \"До\", производится расчет средней зарплаты, а на основании этих данных рассчитывается статистика."
   ]
  },
  {
   "cell_type": "code",
   "execution_count": 8,
   "metadata": {},
   "outputs": [
    {
     "name": "stdout",
     "output_type": "stream",
     "text": [
      "Average statistics (average filter for \"From\"-\"To\" parameters):\n",
      "Mim    : 20000\n",
      "Max    : 401000\n",
      "Mean   : 175482\n",
      "Median : 174000\n"
     ]
    }
   ],
   "source": [
    "comb_from_to = np.nanmean(df[df['Salary']][['From', 'To']].to_numpy(), axis=1)\n",
    "print('Average statistics (average filter for \"From\"-\"To\" parameters):')\n",
    "print('Mim    : %d' % np.min(comb_from_to))\n",
    "print('Max    : %d' % np.max(comb_from_to))\n",
    "print('Mean   : %d' % np.mean(comb_from_to))\n",
    "print('Median : %d' % np.median(comb_from_to))"
   ]
  },
  {
   "cell_type": "markdown",
   "metadata": {},
   "source": [
    "### Список часто используемых слов\n",
    "\n",
    "В этом разделе производится поиск наиболее употребляемых слов для параметра **Ключевые навыки**. Результа функции - список в порядке убывания."
   ]
  },
  {
   "cell_type": "code",
   "execution_count": 9,
   "metadata": {},
   "outputs": [],
   "source": [
    "def most_keys():\n",
    "    # Collect keys from dataframe\n",
    "    keys_df = df['Keys'].to_list()\n",
    "    \n",
    "    # Create a list of keys for all vacancies\n",
    "    lst_keys = []\n",
    "    for keys_elem in keys_df:\n",
    "        for el in keys_elem[1:-1].split(', '):\n",
    "            if el != '':\n",
    "                lst_keys.append(re.sub('\\'', '', el.lower()))\n",
    "\n",
    "    # Unique keys and their counter\n",
    "    set_keys = set(lst_keys)\n",
    "    # Dict: {Key: Count}\n",
    "    dct_keys = {el:lst_keys.count(el) for el in set_keys}\n",
    "    # Sorted dict\n",
    "    srt_keys = dict(sorted(dct_keys.items(), key=lambda x: x[1], reverse=True))\n",
    "    # Return pandas series\n",
    "    return pd.Series(srt_keys, name='Keys')"
   ]
  },
  {
   "cell_type": "code",
   "execution_count": 10,
   "metadata": {},
   "outputs": [
    {
     "name": "stdout",
     "output_type": "stream",
     "text": [
      "python                       91\n",
      "machine learning             56\n",
      "sql                          35\n",
      "data mining                  26\n",
      "c++                          25\n",
      "big data                     23\n",
      "java                         21\n",
      "математическая статистика    19\n",
      "javascript                   19\n",
      "data analysis                18\n",
      "data science                 16\n",
      "linux                        15\n",
      "tensorflow                   13\n",
      "английский язык              13\n",
      "deep learning                13\n",
      "Name: Keys, dtype: int64\n"
     ]
    }
   ],
   "source": [
    "ds_keys = most_keys()\n",
    "\n",
    "print(ds_keys[:15])"
   ]
  },
  {
   "cell_type": "markdown",
   "metadata": {},
   "source": [
    "### Описание вакансий\n",
    "\n",
    "Поиск наиболее употребляемых слов для параметра **Описание вакансий**.  \n",
    "Результат функции - список наиболее часто употребляемых слов (на английском языке) в порядке убывания."
   ]
  },
  {
   "cell_type": "code",
   "execution_count": 11,
   "metadata": {},
   "outputs": [],
   "source": [
    "def most_words():\n",
    "    # Collect keys from dataframe\n",
    "    words_df = df['Description'].to_list()\n",
    "    # Long string - combine descriptions\n",
    "    words_ls = ' '.join([re.sub(' +', ' ', re.sub('\\d+', '', el.strip().lower())) for el in words_df])\n",
    "    # Find all words\n",
    "    words_re = re.findall('[a-zA-Z]+', words_ls)\n",
    "    # Filter words with length < 3\n",
    "    words_l2 = [el for el in words_re if len(el) > 2]\n",
    "    # Unique words\n",
    "    words_st = set(words_l2)\n",
    "    # Remove 'stop words'\n",
    "    stop_words = set(stopwords.words('english'))\n",
    "    # XOR for dictionary\n",
    "    words_st ^= stop_words\n",
    "    # Dictionary - {Word: Counter}\n",
    "    words_cnt = {el : words_l2.count(el) for el in words_st}\n",
    "    # Pandas series\n",
    "    return pd.Series(dict(sorted(words_cnt.items(), key=lambda x: x[1], reverse=True)))"
   ]
  },
  {
   "cell_type": "code",
   "execution_count": 12,
   "metadata": {},
   "outputs": [
    {
     "name": "stdout",
     "output_type": "stream",
     "text": [
      "data           646\n",
      "learning       496\n",
      "experience     413\n",
      "machine        367\n",
      "python         241\n",
      "business       235\n",
      "team           227\n",
      "skills         206\n",
      "development    192\n",
      "work           157\n",
      "knowledge      146\n",
      "amp            144\n",
      "science        142\n",
      "solutions      138\n",
      "sql            132\n",
      "dtype: int64\n"
     ]
    }
   ],
   "source": [
    "ds_words = most_words()\n",
    "\n",
    "print(ds_words.head(15))"
   ]
  },
  {
   "cell_type": "markdown",
   "metadata": {},
   "source": [
    "### Предсказание зарплаты\n",
    "\n",
    "На этом этапе происходит предсказание зарплаты для вакансий, у которых она не указана. Ниже пошагово представлен алгоритм.\n",
    "___\n",
    "\n",
    "**Шаг 1: Предобработка данных**:\n",
    "- Удаление NaN значений из таблицы,\n",
    "- Поиск среднего значение для From / To столбцов,\n",
    "- Замена столбцов зарплаты на усредненое значение"
   ]
  },
  {
   "cell_type": "code",
   "execution_count": 13,
   "metadata": {},
   "outputs": [],
   "source": [
    "# Replace NaN from Salary into From / To fields,\n",
    "# Find mean values for each elemen and drop NaNs\n",
    "df_num = df[df['From'].notna() | df['From'].notna()]\n",
    "df_avg = df_num[['From', 'To']].mean(axis=1)\n",
    "df_num = df_num.drop(['Salary', 'From', 'To'], axis=1)\n",
    "df_num.insert(3, 'Average', df_avg)"
   ]
  },
  {
   "cell_type": "markdown",
   "metadata": {},
   "source": [
    "**Шаг 2: Подготовка модели**:\n",
    "- Формирование вектора признаков из столбца ключевых навыков со списком исключений `stop_words`\n",
    "- Поиск наиболее часто используемых слов в ключевых навыках\n",
    "- One-Hot кодирование признаков таблицы\n",
    "- Объединение в матрицу \"объекты-признаки\""
   ]
  },
  {
   "cell_type": "code",
   "execution_count": 14,
   "metadata": {},
   "outputs": [
    {
     "name": "stdout",
     "output_type": "stream",
     "text": [
      "Top words used in keys: ['python', 'learning', 'analysis', 'java', 'sql', 'data', 'machine']\n"
     ]
    }
   ],
   "source": [
    "def text_replace(text) -> pd.Series:\n",
    "    return text.str.lower().replace(\"[^a-zA-Z]\\bqout\\b|\\bamp\\b\", \" \", regex=True)\n",
    "\n",
    "# Set TF-IDF features\n",
    "min_df = 5 # ignore terms w/ frequency < than threshold\n",
    "tf_idf = TfidfVectorizer(min_df=min_df, stop_words='english')\n",
    "\n",
    "# Training set\n",
    "X_train_text = tf_idf.fit_transform(text_replace(df_num['Keys']))\n",
    "# Dict: {key: counter}\n",
    "# print(pd.Series(tf_idf.vocabulary_)[:10])\n",
    "\n",
    "# Print top words used in keys\n",
    "idx = np.ravel(X_train_text.sum(axis=0).argsort(axis=1))[::-1][:7]\n",
    "top_words = np.array(tf_idf.get_feature_names())[idx].tolist()\n",
    "print('Top words used in keys: {}'. format(top_words))\n",
    "\n",
    "# One-hot-encoding for data frame features\n",
    "dct_enc = DictVectorizer()\n",
    "X_train_cat = dct_enc.fit_transform(df_num[['Experience', 'Name']].to_dict('Records'))\n",
    "\n",
    "# Stack vectors\n",
    "X_train = hstack([X_train_text, X_train_cat])"
   ]
  },
  {
   "cell_type": "markdown",
   "metadata": {},
   "source": [
    "**Шаг 3: Обучение модели**"
   ]
  },
  {
   "cell_type": "code",
   "execution_count": 15,
   "metadata": {},
   "outputs": [
    {
     "data": {
      "text/plain": [
       "Ridge(alpha=1, copy_X=True, fit_intercept=True, max_iter=None, normalize=False,\n",
       "      random_state=255, solver='auto', tol=0.001)"
      ]
     },
     "execution_count": 15,
     "metadata": {},
     "output_type": "execute_result"
    }
   ],
   "source": [
    "# Train model\n",
    "y_train = df_num['Average']\n",
    "model = Ridge(alpha=1, random_state=255)\n",
    "model.fit(X_train, y_train)"
   ]
  },
  {
   "cell_type": "markdown",
   "metadata": {},
   "source": [
    "**Шаг 4: Применение к тестовым данным**"
   ]
  },
  {
   "cell_type": "code",
   "execution_count": 16,
   "metadata": {},
   "outputs": [
    {
     "name": "stdout",
     "output_type": "stream",
     "text": [
      "Average salary forvacancies with NaN is 181676\n"
     ]
    }
   ],
   "source": [
    "# Frame with NaNs\n",
    "x_test = df[df['From'].isna() & df['To'].isna()]\n",
    "\n",
    "# Test vectors\n",
    "X_test_text = tf_idf.transform(text_replace(x_test['Description']))\n",
    "X_test_cat = dct_enc.transform(x_test[['Experience', 'Name']].to_dict('Records'))\n",
    "X_test = hstack([X_test_text, X_test_cat])\n",
    "\n",
    "# Prediction model - result\n",
    "y_test = model.predict(X_test)\n",
    "\n",
    "print('Average salary forvacancies with NaN is {}'.format(y_test.mean(dtype=int)))"
   ]
  },
  {
   "cell_type": "markdown",
   "metadata": {},
   "source": [
    "**Шаг 5: Замена отсутствующих зарплат на предсказанные значения**"
   ]
  },
  {
   "cell_type": "code",
   "execution_count": 17,
   "metadata": {},
   "outputs": [
    {
     "data": {
      "text/html": [
       "<div>\n",
       "<style scoped>\n",
       "    .dataframe tbody tr th:only-of-type {\n",
       "        vertical-align: middle;\n",
       "    }\n",
       "\n",
       "    .dataframe tbody tr th {\n",
       "        vertical-align: top;\n",
       "    }\n",
       "\n",
       "    .dataframe thead th {\n",
       "        text-align: right;\n",
       "    }\n",
       "</style>\n",
       "<table border=\"1\" class=\"dataframe\">\n",
       "  <thead>\n",
       "    <tr style=\"text-align: right;\">\n",
       "      <th></th>\n",
       "      <th>Id</th>\n",
       "      <th>Employer</th>\n",
       "      <th>Name</th>\n",
       "      <th>Average</th>\n",
       "      <th>Experience</th>\n",
       "      <th>Schedule</th>\n",
       "      <th>Keys</th>\n",
       "      <th>Description</th>\n",
       "    </tr>\n",
       "  </thead>\n",
       "  <tbody>\n",
       "    <tr>\n",
       "      <th>0</th>\n",
       "      <td>32614314</td>\n",
       "      <td>HUAWEI</td>\n",
       "      <td>Machine Learning Engineer</td>\n",
       "      <td>123041</td>\n",
       "      <td>Нет опыта</td>\n",
       "      <td>Полный день</td>\n",
       "      <td>['deep learning', 'machine vision', 'image rec...</td>\n",
       "      <td>Кто нам нужен: Специалист в области deep learn...</td>\n",
       "    </tr>\n",
       "    <tr>\n",
       "      <th>1</th>\n",
       "      <td>32728825</td>\n",
       "      <td>Хидбук Клауд</td>\n",
       "      <td>Machine Learning Engineer / инженер машинного ...</td>\n",
       "      <td>192406</td>\n",
       "      <td>От 1 года до 3 лет</td>\n",
       "      <td>Полный день</td>\n",
       "      <td>['tensorflow', 'Python']</td>\n",
       "      <td>Привет!Мы в компании Heedbook, помимо прочего,...</td>\n",
       "    </tr>\n",
       "    <tr>\n",
       "      <th>2</th>\n",
       "      <td>33080773</td>\n",
       "      <td>ОНСЕК</td>\n",
       "      <td>Machine Learning Engineer</td>\n",
       "      <td>120520</td>\n",
       "      <td>Нет опыта</td>\n",
       "      <td>Полный день</td>\n",
       "      <td>['Python', 'НТТР', 'REST API', 'JSON', 'C++', ...</td>\n",
       "      <td>Что такое Валарм? Компания Валарм - разработчи...</td>\n",
       "    </tr>\n",
       "    <tr>\n",
       "      <th>3</th>\n",
       "      <td>32000237</td>\n",
       "      <td>НТехЛаб</td>\n",
       "      <td>Senior Machine Learning Engineer</td>\n",
       "      <td>199646</td>\n",
       "      <td>От 3 до 6 лет</td>\n",
       "      <td>Полный день</td>\n",
       "      <td>[]</td>\n",
       "      <td>NtechLab – молодая компания, мы разрабатываем ...</td>\n",
       "    </tr>\n",
       "    <tr>\n",
       "      <th>5</th>\n",
       "      <td>31934468</td>\n",
       "      <td>Samsung Research Center</td>\n",
       "      <td>Machine Learning Engineer</td>\n",
       "      <td>200860</td>\n",
       "      <td>От 3 до 6 лет</td>\n",
       "      <td>Полный день</td>\n",
       "      <td>['Machine Learning', 'Deep Learning', 'Python'...</td>\n",
       "      <td>Responsibilities:   Develop and prototype appl...</td>\n",
       "    </tr>\n",
       "    <tr>\n",
       "      <th>6</th>\n",
       "      <td>33014092</td>\n",
       "      <td>Генотек</td>\n",
       "      <td>Data scientist</td>\n",
       "      <td>196415</td>\n",
       "      <td>От 1 года до 3 лет</td>\n",
       "      <td>Полный день</td>\n",
       "      <td>[]</td>\n",
       "      <td>Genotek – молодая компания, знающая толк в тех...</td>\n",
       "    </tr>\n",
       "    <tr>\n",
       "      <th>7</th>\n",
       "      <td>33013367</td>\n",
       "      <td>АЙКЬЮВИА СОЛЮШНС</td>\n",
       "      <td>Machine Learning Analyst</td>\n",
       "      <td>169035</td>\n",
       "      <td>От 1 года до 3 лет</td>\n",
       "      <td>Полный день</td>\n",
       "      <td>['Latex', 'SQL', 'MATLAB', 'Английский язык', ...</td>\n",
       "      <td>IQVIA is the world’s largest provider of bioph...</td>\n",
       "    </tr>\n",
       "    <tr>\n",
       "      <th>8</th>\n",
       "      <td>32984434</td>\n",
       "      <td>BOSCH</td>\n",
       "      <td>Machine Learning Research Engineer</td>\n",
       "      <td>195495</td>\n",
       "      <td>От 3 до 6 лет</td>\n",
       "      <td>Полный день</td>\n",
       "      <td>['MATLAB', 'C++', 'Python', 'Математическое мо...</td>\n",
       "      <td>Do you have deep experience in machine learnin...</td>\n",
       "    </tr>\n",
       "    <tr>\n",
       "      <th>9</th>\n",
       "      <td>32717834</td>\n",
       "      <td>Ton Labs</td>\n",
       "      <td>Senior Data Scientist</td>\n",
       "      <td>215263</td>\n",
       "      <td>Более 6 лет</td>\n",
       "      <td>Полный день</td>\n",
       "      <td>['Data Analysis', 'Data Mining', 'Analytical s...</td>\n",
       "      <td>TVS is looking to implement an innovative new ...</td>\n",
       "    </tr>\n",
       "    <tr>\n",
       "      <th>10</th>\n",
       "      <td>32667835</td>\n",
       "      <td>Билайн</td>\n",
       "      <td>Data scientist</td>\n",
       "      <td>186497</td>\n",
       "      <td>От 1 года до 3 лет</td>\n",
       "      <td>Полный день</td>\n",
       "      <td>[]</td>\n",
       "      <td>Наше подразделение - это команда, объединённая...</td>\n",
       "    </tr>\n",
       "  </tbody>\n",
       "</table>\n",
       "</div>"
      ],
      "text/plain": [
       "          Id                 Employer  \\\n",
       "0   32614314                   HUAWEI   \n",
       "1   32728825             Хидбук Клауд   \n",
       "2   33080773                    ОНСЕК   \n",
       "3   32000237                  НТехЛаб   \n",
       "5   31934468  Samsung Research Center   \n",
       "6   33014092                  Генотек   \n",
       "7   33013367         АЙКЬЮВИА СОЛЮШНС   \n",
       "8   32984434                    BOSCH   \n",
       "9   32717834                 Ton Labs   \n",
       "10  32667835                   Билайн   \n",
       "\n",
       "                                                 Name  Average  \\\n",
       "0                           Machine Learning Engineer   123041   \n",
       "1   Machine Learning Engineer / инженер машинного ...   192406   \n",
       "2                           Machine Learning Engineer   120520   \n",
       "3                    Senior Machine Learning Engineer   199646   \n",
       "5                           Machine Learning Engineer   200860   \n",
       "6                                      Data scientist   196415   \n",
       "7                            Machine Learning Analyst   169035   \n",
       "8                  Machine Learning Research Engineer   195495   \n",
       "9                               Senior Data Scientist   215263   \n",
       "10                                     Data scientist   186497   \n",
       "\n",
       "            Experience     Schedule  \\\n",
       "0            Нет опыта  Полный день   \n",
       "1   От 1 года до 3 лет  Полный день   \n",
       "2            Нет опыта  Полный день   \n",
       "3        От 3 до 6 лет  Полный день   \n",
       "5        От 3 до 6 лет  Полный день   \n",
       "6   От 1 года до 3 лет  Полный день   \n",
       "7   От 1 года до 3 лет  Полный день   \n",
       "8        От 3 до 6 лет  Полный день   \n",
       "9          Более 6 лет  Полный день   \n",
       "10  От 1 года до 3 лет  Полный день   \n",
       "\n",
       "                                                 Keys  \\\n",
       "0   ['deep learning', 'machine vision', 'image rec...   \n",
       "1                            ['tensorflow', 'Python']   \n",
       "2   ['Python', 'НТТР', 'REST API', 'JSON', 'C++', ...   \n",
       "3                                                  []   \n",
       "5   ['Machine Learning', 'Deep Learning', 'Python'...   \n",
       "6                                                  []   \n",
       "7   ['Latex', 'SQL', 'MATLAB', 'Английский язык', ...   \n",
       "8   ['MATLAB', 'C++', 'Python', 'Математическое мо...   \n",
       "9   ['Data Analysis', 'Data Mining', 'Analytical s...   \n",
       "10                                                 []   \n",
       "\n",
       "                                          Description  \n",
       "0   Кто нам нужен: Специалист в области deep learn...  \n",
       "1   Привет!Мы в компании Heedbook, помимо прочего,...  \n",
       "2   Что такое Валарм? Компания Валарм - разработчи...  \n",
       "3   NtechLab – молодая компания, мы разрабатываем ...  \n",
       "5   Responsibilities:   Develop and prototype appl...  \n",
       "6   Genotek – молодая компания, знающая толк в тех...  \n",
       "7   IQVIA is the world’s largest provider of bioph...  \n",
       "8   Do you have deep experience in machine learnin...  \n",
       "9   TVS is looking to implement an innovative new ...  \n",
       "10  Наше подразделение - это команда, объединённая...  "
      ]
     },
     "execution_count": 17,
     "metadata": {},
     "output_type": "execute_result"
    }
   ],
   "source": [
    "df_tst = x_test.drop(['Salary', 'From', 'To'], axis=1)\n",
    "df_tst.insert(3, 'Average', y_test.astype(int))\n",
    "df_tst.head(10)"
   ]
  },
  {
   "cell_type": "code",
   "execution_count": 18,
   "metadata": {
    "scrolled": true
   },
   "outputs": [
    {
     "data": {
      "image/png": "[encoded data removed]",
      "text/plain": [
       "<Figure size 960x320 with 2 Axes>"
      ]
     },
     "metadata": {
      "needs_background": "light"
     },
     "output_type": "display_data"
    }
   ],
   "source": [
    "fz = plt.figure(figsize=(12, 4), dpi=80)\n",
    "fz.add_subplot(1, 2, 1)\n",
    "plt.title('Average Boxplot')\n",
    "sns.boxplot(data=df_tst[['Average']], width=0.4)\n",
    "fz.add_subplot(1, 2, 2)\n",
    "plt.title('Average Swarmplot')\n",
    "sns.swarmplot(data=df_tst[['Average']].dropna(), size=6)\n",
    "plt.tight_layout()"
   ]
  }
 ],
 "metadata": {
  "kernelspec": {
   "display_name": "Python 3",
   "language": "python",
   "name": "python3"
  },
  "language_info": {
   "codemirror_mode": {
    "name": "ipython",
    "version": 3
   },
   "file_extension": ".py",
   "mimetype": "text/x-python",
   "name": "python",
   "nbconvert_exporter": "python",
   "pygments_lexer": "ipython3",
   "version": "3.7.3"
  }
 },
 "nbformat": 4,
 "nbformat_minor": 2
}
